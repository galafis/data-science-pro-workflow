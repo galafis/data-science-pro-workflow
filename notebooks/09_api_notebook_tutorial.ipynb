{
 "cells": [
  {
   "cell_type": "markdown",
   "metadata": {},
   "source": [
    "# 09 — FastAPI API: Consumo, Testes e Automação (Bilingue)\n",
    "\n",
    "Este notebook ensina como consumir, testar e automatizar chamadas à API FastAPI deste projeto.\n",
    "This notebook teaches how to consume, test, and automate calls to the project's FastAPI API.\n",
    "\n",
    "Conteúdo / Contents:\n",
    "- Setup de ambiente (requests, httpx, pytest, locust opcional)\n",
    "- Endpoints: predição (sync/async), batch, explicabilidade (SHAP/LIME), saúde/versão\n",
    "- Autenticação (Bearer/JWT) e variáveis de ambiente\n",
    "- Testes automatizados de contrato e integração\n",
    "- Integração com front-end (Streamlit)\n",
    "- Automação e agendamento (Prefect/Airflow)\n"
   ]
  },
  {
   "cell_type": "code",
   "execution_count": null,
   "metadata": {},
   "outputs": [],
   "source": [
    "# %% [markdown]\n",
    "# 🔧 Setup / Instalação\n",
    "# Execute uma vez para garantir dependências.\n",
    "# Run once to ensure dependencies.\n",
    "!pip -q install requests httpx python-dotenv pytest rich >/dev/null 2>&1\n",
    "# opcional / optional: \n",
    "# !pip -q install locust shap lime prefect apache-airflow >/dev/null 2>&1\n"
   ]
  },
  {
   "cell_type": "markdown",
   "metadata": {},
   "source": [
    "## 🔑 Configuração / Configuration\n",
    "Defina a URL base da API e o token (se houver) via .env.\n",
    "Define API base URL and token (if any) via .env.\n"
   ]
  },
  {
   "cell_type": "code",
   "execution_count": null,
   "metadata": {},
   "outputs": [],
   "source": [
    "import os\n",
    "from dotenv import load_dotenv\n",
    "load_dotenv()\n",
    "API_BASE = os.getenv('API_BASE', 'http://localhost:8000')\n",
    "API_TOKEN = os.getenv('API_TOKEN')  # ex: JWT Bearer\n",
    "headers = {'Authorization': f'Bearer {API_TOKEN}'} if API_TOKEN else {}\n",
    "print('API_BASE =', API_BASE)\n",
    "print('Auth =', 'Bearer' if API_TOKEN else 'None')\n"
   ]
  },
  {
   "cell_type": "markdown",
   "metadata": {},
   "source": [
    "## ✅ Health/Version\n",
    "Checar se a API está viva e obter versão.\n",
    "Check if API is alive and get version.\n"
   ]
  },
  {
   "cell_type": "code",
   "execution_count": null,
   "metadata": {},
   "outputs": [],
   "source": [
    "import requests\n",
    "r = requests.get(f'{API_BASE}/health')\n",
    "print('Health:', r.status_code, r.json() if r.headers.get('content-type','').startswith('application/json') else r.text)\n",
    "r = requests.get(f'{API_BASE}/version')\n",
    "print('Version:', r.status_code, r.json() if r.headers.get('content-type','').startswith('application/json') else r.text)\n"
   ]
  },
  {
   "cell_type": "markdown",
   "metadata": {},
   "source": [
    "## 🧠 Predição / Prediction\n",
    "Exemplo de payload conforme o schema do projeto.\n",
    "Example payload according to the project's schema.\n"
   ]
  },
  {
   "cell_type": "code",
   "execution_count": null,
   "metadata": {},
   "outputs": [],
   "source": [
    "sample = {\n",
    "    'features': {\n",
    "        'age': 42,\n",
    "        'income': 52000,\n",
    "        'city': 'Sao Paulo'\n",
    "    }\n",
    "}\n",
    "r = requests.post(f'{API_BASE}/predict', json=sample, headers=headers)\n",
    "print(r.status_code, r.json())\n"
   ]
  },
  {
   "cell_type": "markdown",
   "metadata": {},
   "source": [
    "## 📦 Batch Prediction\n",
    "Envie múltiplos registros de uma vez.\n",
    "Send multiple records at once.\n"
   ]
  },
  {
   "cell_type": "code",
   "execution_count": null,
   "metadata": {},
   "outputs": [],
   "source": [
    "batch = {\n",
    "  'items': [\n",
    "    {'features': {'age': 30, 'income': 30000, 'city': 'Rio'}},\n",
    "    {'features': {'age': 55, 'income': 90000, 'city': 'Sao Paulo'}}\n",
    "  ]\n",
    "}\n",
    "r = requests.post(f'{API_BASE}/predict/batch', json=batch, headers=headers)\n",
    "print(r.status_code, r.json())\n"
   ]
  },
  {
   "cell_type": "markdown",
   "metadata": {},
   "source": [
    "## 🧾 Explicabilidade / Explainability\n",
    "Obtenha explicações SHAP/LIME se expostas no endpoint.\n",
    "Get SHAP/LIME explanations if endpoint is available.\n"
   ]
  },
  {
   "cell_type": "code",
   "execution_count": null,
   "metadata": {},
   "outputs": [],
   "source": [
    "r = requests.post(f'{API_BASE}/explain', json=sample, headers=headers)\n",
    "print(r.status_code)\n",
    "try:\n",
    "    print(r.json())\n",
    "except Exception:\n",
    "    print(r.text[:500])\n"
   ]
  },
  {
   "cell_type": "markdown",
   "metadata": {},
   "source": [
    "## 🔐 Autenticação / Authentication\n",
    "Fluxo típico: obter token via /auth/login, usar como Bearer.\n",
    "Typical flow: get token via /auth/login, use as Bearer.\n"
   ]
  },
  {
   "cell_type": "code",
   "execution_count": null,
   "metadata": {},
   "outputs": [],
   "source": [
    "# Example only — adjust to your API.\n",
    "creds = {'username': os.getenv('API_USER'), 'password': os.getenv('API_PASS')}\n",
    "if creds['username'] and creds['password']:\n",
    "    r = requests.post(f'{API_BASE}/auth/login', json=creds)\n",
    "    if r.ok:\n",
    "        token = r.json().get('access_token')\n",
    "        headers.update({'Authorization': f'Bearer {token}'})\n",
    "        print('Token acquired.')\n",
    "    else:\n",
    "        print('Login failed:', r.status_code, r.text)\n",
    "else:\n",
    "    print('Set API_USER and API_PASS in .env to demo login flow.')\n"
   ]
  },
  {
   "cell_type": "markdown",
   "metadata": {},
   "source": [
    "## 🧪 Testes Automatizados / Automated Tests\n",
    "Testes de contrato e integração com pytest/httpx.\n",
    "Contract and integration tests with pytest/httpx.\n"
   ]
  },
  {
   "cell_type": "code",
   "execution_count": null,
   "metadata": {},
   "outputs": [],
   "source": [
    "%%bash\n",
    "cat > tests_api.py << 'PY'\n",
    "import os, httpx\n",
    "API_BASE = os.getenv('API_BASE', 'http://localhost:8000')\n",
    "def test_health():\n",
    "    r = httpx.get(f'{API_BASE}/health', timeout=10)\n",
    "    assert r.status_code == 200\n",
    "def test_predict_contract():\n",
    "    payload = {'features': {'age': 25, 'income': 40000, 'city': 'BH'}}\n",
    "    r = httpx.post(f'{API_BASE}/predict', json=payload, timeout=15)\n",
    "    assert r.status_code == 200\n",
    "    j = r.json()\n",
    "    assert 'prediction' in j or 'proba' in j\n",
    "PY\n",
    "pytest -q tests_api.py || true\n"
   ]
  },
  {
   "cell_type": "markdown",
   "metadata": {},
   "source": [
    "## 🖥️ Integração com Front-end (Streamlit)\n",
    "Exemplo simples chamando a API a partir de uma UI.\n",
    "Simple example calling API from a UI.\n"
   ]
  },
  {
   "cell_type": "code",
   "execution_count": null,
   "metadata": {},
   "outputs": [],
   "source": [
    "%%bash\n",
    "cat > app_streamlit.py << 'PY'\n",
    "import os, requests, streamlit as st\n",
    "API_BASE = os.getenv('API_BASE', 'http://localhost:8000')\n",
    "st.title('FastAPI Demo')\n",
    "age = st.number_input('Age', 0, 120, 30)\n",
    "income = st.number_input('Income', 0, 1000000, 50000)\n",
    "city = st.text_input('City', 'Sao Paulo')\n",
    "if st.button('Predict'):\n",
    "    r = requests.post(f'{API_BASE}/predict', json={'features': {'age': age, 'income': income, 'city': city}})\n",
    "    st.write(r.json())\n",
    "PY\n",
    "echo 'Run: streamlit run app_streamlit.py'\n"
   ]
  },
  {
   "cell_type": "markdown",
   "metadata": {},
   "source": [
    "## ⏱️ Automação (Prefect/Airflow)\n",
    "Orquestre execuções de batch com Prefect ou Airflow.\n",
    "Orchestrate batch runs with Prefect or Airflow.\n"
   ]
  },
  {
   "cell_type": "code",
   "execution_count": null,
   "metadata": {},
   "outputs": [],
   "source": [
    "# Exemplo Prefect / Prefect example\n",
    "from datetime import datetime\n",
    "try:\n",
    "    from prefect import flow, task\n",
    "    import requests as rq\n",
    "    @task\n",
    "    def call_batch():\n",
    "        payload = {'items': [{'features': {'age': 20, 'income': 20000, 'city': 'Recife'}}]}\n",
    "        res = rq.post(f'{API_BASE}/predict/batch', json=payload)\n",
    "        return res.status_code\n",
    "    @flow(name='api_batch_flow')\n",
    "    def api_batch_flow():\n",
    "        sc = call_batch()\n",
    "        print('Batch status:', sc)\n",
    "    if __name__ == '__main__':\n",
    "        api_batch_flow()\n",
    "except Exception as e:\n",
    "    print('Prefect not installed or example failed:', e)\n"
   ]
  },
  {
   "cell_type": "markdown",
   "metadata": {},
   "source": [
    "---\n",
    "Dicas:\n",
    "- Use variáveis de ambiente para URLs/tokens.\n",
    "- Documente o schema dos endpoints no README.\n",
    "- Adicione testes ao CI para validar a API a cada commit.\n",
    "Tips:\n",
    "- Use environment variables for URLs/tokens.\n",
    "- Document endpoint schemas in README.\n",
    "- Add tests to CI to validate API on each commit.\n"
   ]
  }
 ],
 "metadata": {
  "kernelspec": {"display_name": "Python 3", "language": "python", "name": "python3"},
  "language_info": {"name": "python", "pygments_lexer": "ipython3"}
 },
 "nbformat": 4,
 "nbformat_minor": 5
}
