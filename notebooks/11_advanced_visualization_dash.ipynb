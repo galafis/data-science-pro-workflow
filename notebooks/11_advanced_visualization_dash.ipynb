{
 "cells": [
  {
   "cell_type": "markdown",
   "metadata": {},
   "source": [
    "# 11 — Advanced Visualization & Dash Dashboards (EN/PT)\n",
    "\n",
    "This notebook demonstrates high-performance interactive visualizations with Plotly and Dash, integrates project models, and shows local/cloud deployment.\n",
    "\n",
    "Este notebook demonstra visualizações interativas de alta performance com Plotly e Dash, integra modelos do projeto e mostra publicação local/na nuvem."
   ]
  },
  {
   "cell_type": "markdown",
   "metadata": {},
   "source": [
    "## Contents | Conteúdo\n",
    "- Setup (Plotly, Dash) | Preparação (Plotly, Dash)\n",
    "- High-performance charts (WebGL, density, large data) | Gráficos de alta performance (WebGL, densidade, dados grandes)\n",
    "- Model integration examples | Exemplos de integração com modelos\n",
    "- Dash app structure | Estrutura de app Dash\n",
    "- Local run and cloud deploy (Render, Railway, Azure) | Execução local e deploy em nuvem (Render, Railway, Azure)"
   ]
  },
  {
   "cell_type": "code",
   "execution_count": null,
   "metadata": {},
   "outputs": [],
   "source": [
    "# %% Setup / Preparação\n",
    "!pip -q install plotly dash dash-bootstrap-components pandas numpy\n",
    "import os, json, numpy as np, pandas as pd\n",
    "import plotly.express as px\n",
    "from datetime import datetime\n",
    "\n",
    "RANDOM_SEED = 42\n",
    "np.random.seed(RANDOM_SEED)\n",
    "print('Versions:', {'plotly': px.__version__})"
   ]
  },
  {
   "cell_type": "markdown",
   "metadata": {},
   "source": [
    "## High-performance interactive charts | Gráficos interativos de alta performance\n",
    "We use WebGL traces and data aggregation for responsiveness. | Usamos traçados WebGL e agregação para responsividade."
   ]
  },
  {
   "cell_type": "code",
   "execution_count": null,
   "metadata": {},
   "outputs": [],
   "source": [
    "# Large scatter with WebGL\n",
    "N = 150_000\n",
    "df = pd.DataFrame({\n",
    "    'x': np.random.randn(N).cumsum(),\n",
    "    'y': np.random.randn(N).cumsum(),\n",
    "    'group': np.random.choice(list('ABCDE'), size=N)\n",
    "})\n",
    "fig_gl = px.scatter(df, x='x', y='y', color='group', render_mode='webgl',\n",
    "                   title='WebGL scatter — 150k points')\n",
    "fig_gl.show()"
   ]
  },
  {
   "cell_type": "code",
   "execution_count": null,
   "metadata": {},
   "outputs": [],
   "source": [
    "# Density heatmap for large data\n",
    "fig_den = px.density_heatmap(df.sample(50_000), x='x', y='y', nbinsx=200, nbinsy=200,\n",
    "                            title='Density heatmap — sampled 50k')\n",
    "fig_den.show()"
   ]
  },
  {
   "cell_type": "markdown",
   "metadata": {},
   "source": [
    "## Model integration | Integração com modelos\n",
    "Load a trained model from this project (example path) and visualize predictions. | Carregue um modelo treinado do projeto (caminho exemplo) e visualize previsões."
   ]
  },
  {
   "cell_type": "code",
   "execution_count": null,
   "metadata": {},
   "outputs": [],
   "source": [
    "# Example: load model artifact if exists (adapt to your project paths)\n",
    "MODEL_PATH = os.getenv('MODEL_PATH', 'models/latest/model.pkl')\n",
    "clf = None\n",
    "try:\n",
    "    import joblib\n",
    "    if os.path.exists(MODEL_PATH):\n",
    "        clf = joblib.load(MODEL_PATH)\n",
    "        print('Loaded model from', MODEL_PATH)\n",
    "    else:\n",
    "        print('Model path not found, using synthetic predictions')\n",
    "except Exception as e:\n",
    "    print('Joblib not available or error loading model:', e)\n",
    "\n",
    "X = df[['x','y']].head(2000).values\n",
    "if clf is None:\n",
    "    y_pred = (X[:,0] + X[:,1] > 0).astype(int)\n",
    "else:\n",
    "    try:\n",
    "        y_pred = clf.predict(X)\n",
    "    except Exception as e:\n",
    "        print('Predict error, falling back to synthetic:', e)\n",
    "        y_pred = (X[:,0] + X[:,1] > 0).astype(int)\n",
    "pred_df = pd.DataFrame({'x': X[:,0], 'y': X[:,1], 'pred': y_pred})\n",
    "px.scatter(pred_df, x='x', y='y', color='pred', title='Predictions overlay').show()"
   ]
  },
  {
   "cell_type": "markdown",
   "metadata": {},
   "source": [
    "## Dash app | App Dash\n",
    "Minimal app with controls and high-performance plots. | App mínimo com controles e gráficos de alta performance."
   ]
  },
  {
   "cell_type": "code",
   "execution_count": null,
   "metadata": {},
   "outputs": [],
   "source": [
    "# dash_app.py inside notebook cell (can be exported)\n",
    "import dash\n",
    "from dash import dcc, html, Input, Output\n",
    "import dash_bootstrap_components as dbc\n",
    "\n",
    "app = dash.Dash(__name__, external_stylesheets=[dbc.themes.BOOTSTRAP])\n",
    "app.title = 'Advanced Viz — Dash'\n",
    "\n",
    "app.layout = dbc.Container([\n",
    "    html.H3('Advanced Visualization Dashboard — EN/PT'),\n",
    "    dbc.Row([\n",
    "        dbc.Col([\n",
    "            dcc.Slider(id='n-sample', min=5_000, max=150_000, step=5_000, value=50_000),\n",
    "            html.Small('Sample size | Tamanho da amostra')\n",
    "        ], md=4),\n",
    "        dbc.Col([\n",
    "            dcc.Dropdown(id='render-mode', options=[\n",
    "                {'label': 'WebGL', 'value': 'webgl'},\n",
    "                {'label': 'SVG', 'value': 'auto'}\n",
    "            ], value='webgl', clearable=False),\n",
    "            html.Small('Render mode | Modo de renderização')\n",
    "        ], md=4),\n",
    "        dbc.Col([\n",
    "            dcc.Checklist(id='show-density', options=[{'label':'Show density | Mostrar densidade','value':'yes'}], value=['yes'])\n",
    "        ], md=4),\n",
    "    ], className='my-2'),\n",
    "    dbc.Row([\n",
    "        dbc.Col(dcc.Graph(id='gl-scatter'), md=6),\n",
    "        dbc.Col(dcc.Graph(id='density'), md=6),\n",
    "    ])\n",
    "], fluid=True)\n",
    "\n",
    "@app.callback(\n",
    "    Output('gl-scatter', 'figure'),\n",
    "    Output('density', 'figure'),\n",
    "    Input('n-sample', 'value'),\n",
    "    Input('render-mode', 'value'),\n",
    "    Input('show-density', 'value')\n",
    ")\n",
    "def update_figs(n_sample, render_mode, show_density):\n",
    "    sample = df.sample(int(n_sample)) if n_sample < len(df) else df\n",
    "    fig1 = px.scatter(sample, x='x', y='y', color='group', render_mode=render_mode,\n",
    "                      title=f'Scatter — {len(sample):,} pts')\n",
    "    if 'yes' in (show_density or []):\n",
    "        fig2 = px.density_heatmap(sample, x='x', y='y', nbinsx=120, nbinsy=120,\n",
    "                                 title='Density heatmap')\n",
    "    else:\n",
    "        fig2 = px.histogram2d(sample, x='x', y='y', nbinsx=120, nbinsy=120,\n",
    "                             title='2D histogram')\n",
    "    return fig1, fig2\n",
    "\n",
    "# To run in notebook: app.run_server(debug=False, port=8050)\n",
    "print('Dash app defined. Run with: app.run_server(port=8050)')"
   ]
  },
  {
   "cell_type": "markdown",
   "metadata": {},
   "source": [
    "## Local run | Execução local\n",
    "- python -m pip install -r requirements.txt\n",
    "- python notebook_to_script.py 11_advanced_visualization_dash.ipynb  # optional export\n",
    "- python -c \"from app_dash import app; app.run_server(port=8050)\"\n",
    "\n",
    "## Cloud deploy (Render/Railway/Azure) | Deploy em nuvem (Render/Railway/Azure)\n",
    "- Create Procfile: `web: gunicorn app_dash:app.server`\n",
    "- requirements.txt includes: dash, dash-bootstrap-components, gunicorn, plotly\n",
    "- Set PORT env var if required by platform\n",
    "- For Azure Web App: configure Startup command to `gunicorn app_dash:app.server --bind=0.0.0.0:$PORT`"
   ]
  }
 ],
 "metadata": {
  "kernelspec": {
   "display_name": "Python 3",
   "language": "python",
   "name": "python3"
  },
  "language_info": {
   "name": "python",
   "version": "3.10"
  }
 },
 "nbformat": 4,
 "nbformat_minor": 5
}
