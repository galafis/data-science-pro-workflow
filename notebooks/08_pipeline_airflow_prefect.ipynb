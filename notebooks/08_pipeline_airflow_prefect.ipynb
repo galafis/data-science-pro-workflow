{
 "cells": [
  {
   "cell_type": "markdown",
   "metadata": {},
   "source": [
    "# 08 — Pipeline com Airflow e Prefect / Airflow & Prefect Pipeline\n",
    "\n",
    "Este notebook demonstra um pipeline integrado de ETL/ML usando Apache Airflow e Prefect, incluindo: agendamento, orquestração, automação de ingestão/modelagem, métricas e logs. / This notebook demonstrates an integrated ETL/ML pipeline using Apache Airflow and Prefect, including: scheduling, orchestration, automated ingestion/modeling, metrics and logging."
   ]
  },
  {
   "cell_type": "markdown",
   "metadata": {},
   "source": [
    "## Requisitos / Requirements\n",
    "- Python 3.10+\n",
    "- Apache Airflow (>=2.7)\n",
    "- Prefect (>=2.16)\n",
    "- pandas, scikit-learn, requests\n",
    "\n",
    "Instalação rápida / Quick install:\n",
    "```bash\n",
    "pip install \"apache-airflow==2.7.*\" --constraint https://raw.githubusercontent.com/apache/airflow/constraints-2.7.3/constraints-3.10.txt\n",
    "pip install prefect pandas scikit-learn requests\n",
    "```"
   ]
  },
  {
   "cell_type": "code",
   "execution_count": null,
   "metadata": {},
   "outputs": [],
   "source": [
    "# Imports essenciais / Essential imports\n",
    "import os, json, time, logging, datetime as dt\n",
    "import pandas as pd\n",
    "from sklearn.model_selection import train_test_split\n",
    "from sklearn.linear_model import LogisticRegression\n",
    "from sklearn.metrics import classification_report\n",
    "\n",
    "# Prefect\n",
    "from prefect import flow, task, get_run_logger\n",
    "from prefect.task_runners import ConcurrentTaskRunner\n",
    "from prefect.deployments import run_deployment\n",
    "from prefect.logging import get_logger as get_prefect_logger\n",
    "\n",
    "# Airflow (opcional para execução neste notebook)\n",
    "try:\n",
    "    from airflow import DAG\n",
    "    from airflow.operators.python import PythonOperator\n",
    "    AIRFLOW_AVAILABLE = True\n",
    "except Exception:\n",
    "    AIRFLOW_AVAILABLE = False\n",
    "\n",
    "logging.basicConfig(level=logging.INFO)\n",
    "logger = logging.getLogger(__name__)\n"
   ]
  },
  {
   "cell_type": "markdown",
   "metadata": {},
   "source": [
    "## Dataset de exemplo / Sample dataset\n",
    "Geramos dados sintéticos para o fluxo. / We generate synthetic data for the flow."
   ]
  },
  {
   "cell_type": "code",
   "execution_count": null,
   "metadata": {},
   "outputs": [],
   "source": [
    "import numpy as np\n",
    "rng = np.random.default_rng(42)\n",
    "N = 1000\n",
    "df = pd.DataFrame({\n",
    "    'feature_1': rng.normal(0, 1, N),\n",
    "    'feature_2': rng.normal(5, 2, N),\n",
    "    'feature_3': rng.integers(0, 10, N),\n",
    "})\n",
    "df['target'] = (df['feature_1'] + 0.3*df['feature_2'] - 0.1*df['feature_3'] > 2.0).astype(int)\n",
    "df.head()\n"
   ]
  },
  {
   "cell_type": "markdown",
   "metadata": {},
   "source": [
    "## Tarefas Prefect / Prefect Tasks\n",
    "Cada etapa (ingestão, limpeza, treino, avaliação) é uma task. / Each step (ingestion, cleaning, training, evaluation) is a task."
   ]
  },
  {
   "cell_type": "code",
   "execution_count": null,
   "metadata": {},
   "outputs": [],
   "source": [
    "@task\n",
    "def ingest_data() -> pd.DataFrame:\n",
    "    logger = get_run_logger()\n",
    "    logger.info(\"Ingesting data\")\n",
    "    return df.copy()\n",
    "\n",
    "@task\n",
    "def clean_data(data: pd.DataFrame) -> pd.DataFrame:\n",
    "    logger = get_run_logger()\n",
    "    logger.info(\"Cleaning data\")\n",
    "    data = data.dropna().reset_index(drop=True)\n",
    "    return data\n",
    "\n",
    "@task\n",
    "def split_data(data: pd.DataFrame):\n",
    "    logger = get_run_logger()\n",
    "    logger.info(\"Splitting data\")\n",
    "    X = data[['feature_1','feature_2','feature_3']]\n",
    "    y = data['target']\n",
    "    return train_test_split(X, y, test_size=0.2, random_state=42)\n",
    "\n",
    "@task\n",
    "def train_model(X_train, y_train):\n",
    "    logger = get_run_logger()\n",
    "    logger.info(\"Training model\")\n",
    "    model = LogisticRegression(max_iter=500)\n",
    "    model.fit(X_train, y_train)\n",
    "    return model\n",
    "\n",
    "@task\n",
    "def evaluate(model, X_test, y_test) -> dict:\n",
    "    logger = get_run_logger()\n",
    "    logger.info(\"Evaluating model\")\n",
    "    y_pred = model.predict(X_test)\n",
    "    report = classification_report(y_test, y_pred, output_dict=True)\n",
    "    logger.info(f\"precision={report['weighted avg']['precision']:.3f} recall={report['weighted avg']['recall']:.3f}\")\n",
    "    return report\n"
   ]
  },
  {
   "cell_type": "markdown",
   "metadata": {},
   "source": [
    "## Flow Prefect com agendamento / Prefect flow with scheduling\n",
    "O flow pode ser implantado com um cron. / The flow can be deployed with a cron."
   ]
  },
  {
   "cell_type": "code",
   "execution_count": null,
   "metadata": {},
   "outputs": [],
   "source": [
    "@flow(name=\"etl_ml_pipeline\", task_runner=ConcurrentTaskRunner())\n",
    "def etl_ml_pipeline():\n",
    "    data = ingest_data()\n",
    "    data = clean_data(data)\n",
    "    X_train, X_test, y_train, y_test = split_data(data)\n",
    "    model = train_model(X_train, y_train)\n",
    "    metrics = evaluate(model, X_test, y_test)\n",
    "    return metrics\n",
    "\n",
    "if __name__ == \"__main__\":\n",
    "    # Execução direta / Direct run\n",
    "    metrics = etl_ml_pipeline()\n",
    "    print(json.dumps(metrics, indent=2)[:1000])\n"
   ]
  },
  {
   "cell_type": "markdown",
   "metadata": {},
   "source": [
    "### Implantação e agendamento Prefect / Prefect deployment & scheduling\n",
    "Exemplo de CLI (fora do notebook) / CLI example (outside the notebook):\n",
    "```bash\n",
    "prefect deployment build 08_pipeline_airflow_prefect.ipynb:etl_ml_pipeline \\\n",
    "  -n etl-ml-daily -q default -s \"0 2 * * *\" -o deployment.yaml\n",
    "prefect deployment apply deployment.yaml\n",
    "prefect agent start -q default\n",
    "```\n",
    "Isso agenda execução diária às 02:00. / Schedules daily run at 02:00."
   ]
  },
  {
   "cell_type": "markdown",
   "metadata": {},
   "source": [
    "## DAG do Airflow / Airflow DAG\n",
    "Exemplo mínimo que chama o flow Prefect via CLI. / Minimal example calling Prefect flow via CLI."
   ]
  },
  {
   "cell_type": "code",
   "execution_count": null,
   "metadata": {},
   "outputs": [],
   "source": [
    "AIRFLOW_EXAMPLE = r'''\n",
    "from datetime import datetime, timedelta\n",
    "from airflow import DAG\n",
    "from airflow.operators.bash import BashOperator\n",
    "\n",
    "default_args = {\n",
    "    'owner': 'airflow',\n",
    "    'retries': 1,\n",
    "    'retry_delay': timedelta(minutes=5)\n",
    "}\n",
    "\n",
    "with DAG(\n",
    "    dag_id='prefect_etl_ml_pipeline',\n",
    "    default_args=default_args,\n",
    "    start_date=datetime(2025, 1, 1),\n",
    "    schedule_interval='0 2 * * *',\n",
    "    catchup=False,\n",
    ") as dag:\n",
    "    run_prefect = BashOperator(\n",
    "        task_id='run_prefect_flow',\n",
    "        bash_command='prefect deployment run etl_ml_pipeline/etl-ml-daily'\n",
    "    )\n",
    "'''\n",
    "print(AIRFLOW_EXAMPLE[:400])\n"
   ]
  },
  {
   "cell_type": "markdown",
   "metadata": {},
   "source": [
    "## Métricas e Logs / Metrics and Logs\n",
    "- Prefect: UI e logs estruturados das tasks. / Prefect: UI and structured task logs.\n",
    "- Airflow: UI, XComs e logs por tarefa. / Airflow: UI, XComs and per-task logs.\n",
    "- Salve métricas no formato JSON para auditoria. / Save metrics as JSON for audit."
   ]
  },
  {
   "cell_type": "code",
   "execution_count": null,
   "metadata": {},
   "outputs": [],
   "source": [
    "@task\n",
    "def persist_metrics(metrics: dict, path: str = 'metrics_prefect.json'):\n",
    "    import json\n",
    "    with open(path, 'w') as f:\n",
    "        json.dump(metrics, f)\n",
    "    get_run_logger().info(f\"Saved metrics to {path}\")\n",
    "\n",
    "@flow\n",
    "def etl_ml_pipeline_with_persistence():\n",
    "    m = etl_ml_pipeline()\n",
    "    persist_metrics(m)\n",
    "    return m\n"
   ]
  },
  {
   "cell_type": "markdown",
   "metadata": {},
   "source": [
    "## Conclusão / Conclusion\n",
    "Este notebook oferece um template para orquestrar ETL/ML com Prefect e Airflow, com agendamento, logs e persistência de métricas. / This notebook provides a template to orchestrate ETL/ML with Prefect and Airflow, with scheduling, logs and metrics persistence."
   ]
  }
 ],
 "metadata": {
  "kernelspec": {
   "display_name": "Python 3",
   "language": "python",
   "name": "python3"
  },
  "language_info": {
   "name": "python",
   "version": "3.10"
  }
 },
 "nbformat": 4,
 "nbformat_minor": 5
}
