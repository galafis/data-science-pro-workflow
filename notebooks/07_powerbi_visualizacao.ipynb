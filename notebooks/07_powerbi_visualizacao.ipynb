{
 "cells": [
  {
   "cell_type": "markdown",
   "metadata": {},
   "source": [
    "# 07 — Power BI Visualização / Visualization\n",
    "\n",
    "Este notebook demonstra um fluxo completo para integração entre Python e Power BI Desktop/Service, com exportação/importação de dados, criação de medidas/KPIs e visuais avançados.\n",
    "\n",
    "This notebook shows an end-to-end workflow to integrate Python with Power BI Desktop/Service, including data export/import, KPI measures, and advanced visuals."
   ]
  },
  {
   "cell_type": "markdown",
   "metadata": {},
   "source": [
    "## Objetivos / Objectives\n",
    "- Exportar dados tratados do Python para CSV/Parquet a serem importados no Power BI.\n",
    "- Demonstrar scripts Python como fonte no Power BI e uso de pandas.\n",
    "- Criar KPIs (taxa de conversão, ticket médio, churn) e cartões/indicadores.\n",
    "- Explorar visuais avançados (Decomposition Tree, Key Influencers, Forecast).\n",
    "- Construir interações (slicers, drill-down) e navegação.\n",
    "\n",
    "- Export cleaned data from Python to CSV/Parquet for Power BI import.\n",
    "- Show Python scripts as a data source in Power BI using pandas.\n",
    "- Build KPIs (conversion rate, average order value, churn) and cards/indicators.\n",
    "- Explore advanced visuals (Decomposition Tree, Key Influencers, Forecast).\n",
    "- Build interactions (slicers, drill-down) and navigation."
   ]
  },
  {
   "cell_type": "code",
   "execution_count": null,
   "metadata": {
    "tags": ["setup"]
   },
   "outputs": [],
   "source": [
    "# %% [markdown]\n# Instalação e imports / Install and imports\n",
    "# Execute se necessário / Run if needed\n",
    "%pip -q install pandas pyarrow plotly prophet scikit-learn\n",
    "\n",
    "import pandas as pd\n",
    "import numpy as np\n",
    "from sklearn.preprocessing import StandardScaler\n",
    "from sklearn.linear_model import LogisticRegression\n",
    "from datetime import datetime, timedelta\n",
    "import plotly.express as px\n"
   ]
  },
  {
   "cell_type": "markdown",
   "metadata": {},
   "source": [
    "## Dados de exemplo / Sample data\n",
    "Vamos simular um dataset de pedidos com clientes, datas, valores e conversões.\n",
    "\n",
    "We will simulate an orders dataset with customers, dates, amounts, and conversions."
   ]
  },
  {
   "cell_type": "code",
   "execution_count": null,
   "metadata": {},
   "outputs": [],
   "source": [
    "rng = pd.date_range('2024-01-01', periods=270, freq='D')\n",
    "np.random.seed(42)\n",
    "n_customers = 500\n",
    "customers = [f'C{{i:04d}}' for i in range(1, n_customers+1)]\n",
    "df = pd.DataFrame({\n",
    "    'date': np.random.choice(rng, size=5000),\n",
    "    'customer_id': np.random.choice(customers, size=5000),\n",
    "    'channel': np.random.choice(['Web','App','Store'], size=5000, p=[0.5,0.3,0.2]),\n",
    "    'segment': np.random.choice(['SMB','Enterprise','Consumer'], size=5000, p=[0.4,0.2,0.4]),\n",
    "    'amount': np.round(np.random.gamma(2.0, 50.0, size=5000), 2)\n",
    "})\n",
    "df['converted'] = (np.random.rand(len(df)) < 0.35).astype(int)\n",
    "df['orders'] = np.where(df['converted']==1, np.random.poisson(1.2, len(df)), 0)\n",
    "df.head()\n"
   ]
  },
  {
   "cell_type": "markdown",
   "metadata": {},
   "source": [
    "## Exportação de dados / Data export\n",
    "Salve dados em formatos ideais para o Power BI (CSV/Parquet).\n",
    "\n",
    "Save data in Power BI-friendly formats (CSV/Parquet)."
   ]
  },
  {
   "cell_type": "code",
   "execution_count": null,
   "metadata": {
    "tags": ["export"]
   },
   "outputs": [],
   "source": [
    "export_dir = 'data_exports'\n",
    "import os\n",
    "os.makedirs(export_dir, exist_ok=True)\n",
    "csv_path = os.path.join(export_dir, 'orders_sample.csv')\n",
    "parquet_path = os.path.join(export_dir, 'orders_sample.parquet')\n",
    "df.to_csv(csv_path, index=False, encoding='utf-8')\n",
    "df.to_parquet(parquet_path, index=False)\n",
    "csv_path, parquet_path\n"
   ]
  },
  {
   "cell_type": "markdown",
   "metadata": {},
   "source": [
    "### Importar no Power BI / Import into Power BI\n",
    "1) Power BI Desktop → Obter dados → Texto/CSV ou Parquet → aponte para os arquivos exportados.\n",
    "2) Alternativamente, use 'Script do Python' como fonte e copie o snippet abaixo.\n",
    "\n",
    "1) Power BI Desktop → Get Data → Text/CSV or Parquet → point to exported files.\n",
    "2) Alternatively, use 'Python script' as source and paste the snippet below."
   ]
  },
  {
   "cell_type": "code",
   "execution_count": null,
   "metadata": {
    "tags": ["powerbi-python-script"]
   },
   "outputs": [],
   "source": [
    "# Snippet para usar no conector de Script do Python do Power BI /\n",
    "# Snippet to use in Power BI Python script connector\n",
    "import pandas as pd\n",
    "df = pd.read_csv(r'FULL_PATH_TO/data_exports/orders_sample.csv')\n",
    "# Opcional: transformações rápidas / Optional: quick transforms\n",
    "df['date'] = pd.to_datetime(df['date'])\n",
    "df['month'] = df['date'].dt.to_period('M').dt.to_timestamp()\n",
    "dataset = df  # o Power BI espera um dataframe chamado 'dataset' / Power BI expects 'dataset'\n"
   ]
  },
  {
   "cell_type": "markdown",
   "metadata": {},
   "source": [
    "## KPIs e Métricas / KPIs and Metrics\n",
    "Definições de KPIs usados no relatório.\n",
    "\n",
    "Definitions of KPIs used in the report."
   ]
  },
  {
   "cell_type": "code",
   "execution_count": null,
   "metadata": {},
   "outputs": [],
   "source": [
    "# KPIs calculados no Python (poderão virar medidas DAX no Power BI)\n",
    "agg = df.groupby('customer_id').agg({\n",
    "    'converted':'max',\n",
    "    'amount':'sum',\n",
    "    'orders':'sum'\n",
    "}).rename(columns={'converted':'has_converted'})\n",
    "agg['aov'] = agg['amount'] / agg['orders'].replace(0, np.nan)\n",
    "kpis = {\n",
    "    'conversion_rate': agg['has_converted'].mean(),\n",
    "    'avg_order_value': agg['aov'].mean(skipna=True),\n",
    "    'arpu': agg['amount'].mean(),\n",
    "    'customers': agg.shape[0]\n",
    "}\n",
    "kpis\n"
   ]
  },
  {
   "cell_type": "markdown",
   "metadata": {},
   "source": [
    "### DAX de exemplo / Sample DAX\n",
    "Copie para medidas no Power BI. / Copy into measures in Power BI.\n",
    "\n",
    "- Conversion Rate = DIVIDE(CALCULATE(DISTINCTCOUNT(Orders[customer_id]), Orders[converted] = 1), DISTINCTCOUNT(Orders[customer_id]))\n",
    "- AOV = DIVIDE(SUM(Orders[amount]), SUM(Orders[orders]))\n",
    "- Churn (simplificado) = 1 - DIVIDE(DISTINCTCOUNT(Active[customer_id]), DISTINCTCOUNT(Customers[customer_id]))"
   ]
  },
  {
   "cell_type": "markdown",
   "metadata": {},
   "source": [
    "## Visuais avançados / Advanced visuals\n",
    "Passos recomendados no Power BI Desktop: / Recommended steps in Power BI Desktop:\n",
    "1) Key Influencers: analisar fatores que impactam Converted.\n",
    "2) Decomposition Tree: decompor Amount por Canal/Segmento/Data.\n",
    "3) Forecast (linha temporal): prever Amount por mês.\n",
    "4) Botões de navegação e bookmarks para histórias.\n",
    "\n",
    "1) Key Influencers: analyze drivers of Converted.\n",
    "2) Decomposition Tree: decompose Amount by Channel/Segment/Date.\n",
    "3) Time series Forecast: forecast Amount by month.\n",
    "4) Navigation buttons and bookmarks for storytelling."
   ]
  },
  {
   "cell_type": "markdown",
   "metadata": {},
   "source": [
    "## Gráficos interativos em Python / Interactive charts in Python\n",
    "Úteis para validar hipóteses antes de publicar no Power BI.\n",
    "\n",
    "Useful to validate hypotheses before publishing to Power BI."
   ]
  },
  {
   "cell_type": "code",
   "execution_count": null,
   "metadata": {},
   "outputs": [],
   "source": [
    "df_month = (df.assign(month=lambda d: pd.to_datetime(d['date']).dt.to_period('M').dt.to_timestamp())\n",
    "              .groupby(['month','channel'], as_index=False)['amount'].sum())\n",
    "fig = px.line(df_month, x='month', y='amount', color='channel', title='Monthly Amount by Channel')\n",
    "fig.show()\n"
   ]
  },
  {
   "cell_type": "markdown",
   "metadata": {},
   "source": [
    "## Integração Python no Power BI / Python integration in Power BI\n",
    "- Ative scripts Python em Arquivo → Opções → Scripts do Python.\n",
    "- Configure a pasta onde estão suas dependências/venv.\n",
    "- Use visuals de Python para gráficos customizados quando necessário.\n",
    "\n",
    "- Enable Python scripting in File → Options → Python scripting.\n",
    "- Point to your Python home/venv.\n",
    "- Use Python visuals for custom charts when needed."
   ]
  },
  {
   "cell_type": "markdown",
   "metadata": {},
   "source": [
    "## Publicação / Publishing\n",
    "- Publique do Desktop para o Power BI Service.\n",
    "- Configure atualização agendada se a origem estiver no OneDrive/SharePoint.\n",
    "- Garanta gateways para fontes on-premises.\n",
    "\n",
    "- Publish from Desktop to Power BI Service.\n",
    "- Configure scheduled refresh if source is on OneDrive/SharePoint.\n",
    "- Ensure gateways for on-premises sources."
   ]
  },
  {
   "cell_type": "markdown",
   "metadata": {},
   "source": [
    "## Checklist didático / Teaching checklist\n",
    "- [ ] Exportou CSV/Parquet do Python?\n",
    "- [ ] Importou no Power BI ou usou Script do Python?\n",
    "- [ ] Criou medidas DAX para KPIs?\n",
    "- [ ] Montou visuais avançados (Key Influencers, Decomposition, Forecast)?\n",
    "- [ ] Ajustou interações (slicers, drill)?\n",
    "- [ ] Publicou e configurou atualização?\n",
    "\n",
    "- [ ] Exported CSV/Parquet from Python?\n",
    "- [ ] Imported into Power BI or used Python script?\n",
    "- [ ] Created DAX measures for KPIs?\n",
    "- [ ] Built advanced visuals (Key Influencers, Decomposition, Forecast)?\n",
    "- [ ] Tuned interactions (slicers, drill)?\n",
    "- [ ] Published and scheduled refresh?"
   ]
  }
 ],
 "metadata": {
  "kernelspec": {
   "display_name": "Python 3",
   "language": "python",
   "name": "python3"
  },
  "language_info": {
   "name": "python",
   "version": "3.10"
  }
 },
 "nbformat": 4,
 "nbformat_minor": 5
}
