{
 "cells": [
  {
   "cell_type": "markdown",
   "metadata": {},
   "source": [
    "# 12 — Documentation Templates / Modelos de Documentação (EN/PT)\n\n",
    "Este notebook reúne templates profissionais e bilíngues (EN/PT) para documentação de projetos de dados: README, estrutura modular, instruções para notebooks, pipelines, APIs, e boas práticas.\n\n",
    "This notebook provides bilingual (EN/PT) professional templates for data project documentation: README, modular structure, notebook, pipeline, API instructions, and best practices."
   ]
  },
  {
   "cell_type": "markdown",
   "metadata": {},
   "source": [
    "## 1) Project README Template / Template de README de Projeto\n\n",
    "EN:\n\n",
    "```
# Project Name

One-line description of the project value and scope.

## Badges (optional)
- Build: ![CI](<badge_url>)
- Coverage: ![Coverage](<badge_url>)
- License: MIT

## Overview
Briefly explain the problem, solution approach, and key outcomes.

## Architecture
High-level diagram or description (data sources, storage, processing, serving).

## Repository Structure
- data/ (raw, interim, processed)
- notebooks/
- src/
- configs/
- tests/
- docs/

## Getting Started
### Prerequisites
- Python >= 3.10
- Poetry or pip

### Installation
```
poetry install
# or
pip install -r requirements.txt
```

### Quick Start
```
make setup
make run
```

## Usage
Describe main entry points, CLI, or notebooks.

## Configuration
Point to configs/ and environment variables.

## Data
Document datasets, schemas, and access policies.

## Model(s)
Summarize training, evaluation, and artifacts.

## Testing
```
pytest -q
```

## CI/CD
Explain pipelines (lint, test, build, deploy).

## Monitoring & Observability
List dashboards, alerts, and logging.

## Roadmap
Upcoming features or improvements.

## Contributing
Guidelines and code style.

## License
MIT

## Acknowledgments
Credits and references.
```
\n",
    "PT-BR:\n\n",
    "```
# Nome do Projeto

Descrição breve do valor e escopo do projeto.

## Selos (opcional)
- Build: ![CI](<url_selo>)
- Cobertura: ![Coverage](<url_selo>)
- Licença: MIT

## Visão Geral
Explique problema, abordagem e resultados principais.

## Arquitetura
Diagrama ou descrição de alto nível (fontes, armazenamento, processamento, serving).

## Estrutura do Repositório
- data/ (raw, interim, processed)
- notebooks/
- src/
- configs/
- tests/
- docs/

## Início Rápido
### Pré-requisitos
- Python >= 3.10
- Poetry ou pip

### Instalação
```
poetry install
# ou
pip install -r requirements.txt
```

### Execução Rápida
```
make setup
make run
```

## Uso
Descreva principais pontos de entrada, CLI ou notebooks.

## Configuração
Aponte para configs/ e variáveis de ambiente.

## Dados
Documente datasets, esquemas e políticas de acesso.

## Modelo(s)
Resuma treino, avaliação e artefatos.

## Testes
```
pytest -q
```

## CI/CD
Explique pipelines (lint, test, build, deploy).

## Monitoramento & Observabilidade
Liste dashboards, alertas e logs.

## Roadmap
Próximos recursos ou melhorias.

## Contribuição
Diretrizes e estilo de código.

## Licença
MIT

## Agradecimentos
Créditos e referências.
```
"
   ]
  },
  {
   "cell_type": "markdown",
   "metadata": {},
   "source": [
    "## 2) Modular Repo Structure / Estrutura Modular do Repositório\n\n",
    "EN:\n\n",
    "```
repo/
├─ data/
│  ├─ 00_raw/
│  ├─ 01_interim/
│  └─ 02_processed/
├─ notebooks/
│  ├─ 00_exploration/
│  ├─ 10_modeling/
│  └─ 90_reports/
├─ src/
│  ├─ __init__.py
│  ├─ data/
│  │  ├─ loaders.py
│  │  └─ validators.py
│  ├─ features/
│  │  ├─ engineering.py
│  │  └─ selectors.py
│  ├─ models/
│  │  ├─ train.py
│  │  ├─ evaluate.py
│  │  └─ registry.py
│  ├─ pipelines/
│  │  ├─ etl.py
│  │  └─ batch_inference.py
│  └─ utils/
│     ├─ io.py
│     └─ logging.py
├─ configs/
│  ├─ base.yaml
│  ├─ dev.yaml
│  └─ prod.yaml
├─ tests/
│  ├─ unit/
│  └─ integration/
├─ docs/
├─ Makefile
├─ pyproject.toml
└─ README.md
```
\n",
    "PT-BR:\n\n",
    "- Use prefixos numerados nas pastas de dados/notebooks para ordem lógica.\n",
    "- Separe camadas (data, features, models, pipelines, utils).\n",
    "- Centralize configs em YAML e gerencie por ambiente (base/dev/prod).\n",
    "- Mantenha testes unitários e de integração."
   ]
  },
  {
   "cell_type": "markdown",
   "metadata": {},
   "source": [
    "## 3) Notebook Template / Template de Notebook\n\n",
    "EN:\n\n",
    "```
# Notebook Title

- Author: <name>
- Date: <YYYY-MM-DD>
- Purpose: <what this notebook delivers>
- Input Data: <paths or sources>
- Output Artifacts: <tables, charts, models>
- Requirements: `pip install -r requirements.txt`

## 1. Setup
- Configure environment variables
- Set project root and paths
- Import libraries

## 2. Context & Hypotheses
Brief context and explicit hypotheses.

## 3. Data Loading & Validation
- Load data from configs
- Run basic schema checks

## 4. EDA
- Overview, distributions, correlations, missing values

## 5. Feature Engineering
- Transformations and rationale

## 6. Modeling / Experiment
- Baseline, model selection, cross-validation

## 7. Evaluation
- Metrics, error analysis, model cards

## 8. Conclusions & Next Steps
- Decisions and actions

## 9. Reproducibility
- Random seeds, fixed versions, cell execution order
```
\n",
    "PT-BR:\n\n",
    "- Inclua cabeçalho com autor, data, propósito, entradas e saídas.\n",
    "- Registre hipóteses e decisões.\n",
    "- Garanta reprodutibilidade (seeds, versões, ordem de execução)."
   ]
  },
  {
   "cell_type": "markdown",
   "metadata": {},
   "source": [
    "## 4) Pipeline Template (ETL/ML) / Template de Pipeline (ETL/ML)\n\n",
    "EN:\n\n",
    "```
# src/pipelines/etl.py
from dataclasses import dataclass
from typing import Optional

@dataclass
class ETLConfig:
    input_path: str
    output_path: str
    partitions: Optional[str] = None

class ETLPipeline:
    def __init__(self, cfg: ETLConfig):
        self.cfg = cfg

    def extract(self):
        ...

    def transform(self, df):
        ...

    def load(self, df):
        ...

    def run(self):
        df = self.extract()
        df = self.transform(df)
        self.load(df)

if __name__ == "__main__":
    # load YAML into ETLConfig and run
    pass
```
\n",
    "PT-BR:\n\n",
    "- Parametrize via YAML (configs/base.yaml, dev.yaml, prod.yaml).\n",
    "- Separe claramente extract/transform/load.\n",
    "- Registre logs e valide schemas."
   ]
  },
  {
   "cell_type": "markdown",
   "metadata": {},
   "source": [
    "## 5) API Template (FastAPI) / Template de API (FastAPI)\n\n",
    "EN:\n\n",
    "```
# src/api/main.py
from fastapi import FastAPI
from pydantic import BaseModel

app = FastAPI(title="Model Serving API")

class PredictRequest(BaseModel):
    features: list[float]

class PredictResponse(BaseModel):
    prediction: float
    version: str

@app.get("/health")
def health():
    return {"status": "ok"}

@app.post("/predict", response_model=PredictResponse)
def predict(req: PredictRequest):
    # load model from registry, run inference
    return {"prediction": 0.0, "version": "0.1.0"}
```
\n",
    "PT-BR:\n\n",
    "- Documente contratos (request/response) e versões.\n",
    "- Inclua /health e rastreabilidade (logs, ids de requisição).\n",
    "- Forneça exemplo de curl e OpenAPI."
   ]
  },
  {
   "cell_type": "markdown",
   "metadata": {},
   "source": [
    "## 6) Best Practices / Boas Práticas\n\n",
    "EN:\n\n",
    "- Reproducibility: lock dependencies, set seeds, capture configs.\n",
    "- Observability: structured logging, metrics, tracing.\n",
    "- Data Contracts: schemas, SLAs, versioning.\n",
    "- Security: secrets in vaults, PII handling, access controls.\n",
    "- Quality: unit/integration tests, data tests (Great Expectations), CI gates.\n",
    "- Governance: model cards, datasheets, reviews.\n\n",
    "PT-BR:\n\n",
    "- Reprodutibilidade: travar dependências, seeds, capturar configs.\n",
    "- Observabilidade: logs estruturados, métricas, tracing.\n",
    "- Contratos de Dados: esquemas, SLAs, versionamento.\n",
    "- Segurança: segredos em cofres, PII, controles de acesso.\n",
    "- Qualidade: testes unit/integration, testes de dados (Great Expectations), gates de CI.\n",
    "- Governança: model cards, datasheets, revisões."
   ]
  }
 ],
 "metadata": {
  "kernelspec": {
   "display_name": "Python 3",
   "language": "python",
   "name": "python3"
  },
  "language_info": {
   "name": "python",
   "version": "3.10"
  }
 },
 "nbformat": 4,
 "nbformat_minor": 5
}
