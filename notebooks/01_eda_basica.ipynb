{
 "cells": [
  {
   "cell_type": "markdown",
   "metadata": {},
   "source": [
    "# 01 - EDA Básica | Basic EDA\n",
    "\n",
    "PT-BR: Este notebook demonstra uma Análise Exploratória de Dados (EDA) usando dados sintéticos, cobrindo estatísticas, distribuições, correlações, dados faltantes e outliers. Inclui exemplos de pré-processamento e gráficos com matplotlib/plotly.\n",
    "\n",
    "EN: This notebook demonstrates Exploratory Data Analysis (EDA) with synthetic data, covering statistics, distributions, correlations, missing values, and outliers. It includes preprocessing examples and matplotlib/plotly plots."
   ]
  },
  {
   "cell_type": "code",
   "execution_count": null,
   "metadata": {
    "tags": ["setup"]
   },
   "source": [
    "\"\"\"\n",
    "PT-BR: Imports e configuração inicial.\n",
    "EN: Imports and initial setup.\n",
    "\"\"\"\n",
    "import os, sys\n",
    "from pathlib import Path\n",
    "import numpy as np\n",
    "import pandas as pd\n",
    "import matplotlib.pyplot as plt\n",
    "import seaborn as sns\n",
    "import plotly.express as px\n",
    "from sklearn.datasets import make_classification\n",
    "from sklearn.model_selection import train_test_split\n",
    "from sklearn.impute import SimpleImputer\n",
    "from sklearn.preprocessing import StandardScaler\n",
    "from sklearn.compose import ColumnTransformer\n",
    "from sklearn.pipeline import Pipeline\n",
    "from sklearn.linear_model import LogisticRegression\n",
    "from sklearn.metrics import classification_report\n",
    "\n",
    "# If running inside repo, ensure src is on path\n",
    "ROOT = Path.cwd()\n",
    "SRC = (ROOT / 'src')\n",
    "if SRC.exists():\n",
    "    sys.path.insert(0, str(SRC))\n",
    "\n",
    "# Optional project utilities (if available)\n",
    "try:\n",
    "    from dsworkflows.data.preprocess import validate_missing_values  # type: ignore\n",
    "except Exception:\n",
    "    validate_missing_values = None\n",
    "\n",
    "%config InlineBackend.figure_format = 'retina'\n",
    "sns.set(style='whitegrid', context='notebook')\n"
   ]
  },
  {
   "cell_type": "markdown",
   "metadata": {},
   "source": [
    "## 1. Geração de Dados Sintéticos | Synthetic Data Generation"
   ]
  },
  {
   "cell_type": "code",
   "execution_count": null,
   "metadata": {},
   "source": [
    "def generate_synthetic_df(n_samples=600, n_features=8, n_informative=5, n_classes=3, random_state=42):\n",
    "    \"\"\"\n",
    "    PT-BR: Gera um DataFrame sintético para classificação.\n",
    "    EN: Generates a synthetic classification DataFrame.\n",
    "    \"\"\"\n",
    "    X, y = make_classification(\n",
    "        n_samples=n_samples, n_features=n_features, n_informative=n_informative,\n",
    "        n_redundant=0, n_repeated=0, n_classes=n_classes, random_state=random_state\n",
    "    )\n",
    "    cols = [f'feat_{i}' for i in range(n_features)]\n",
    "    df = pd.DataFrame(X, columns=cols)\n",
    "    df['target'] = y\n",
    "    # Introduzir alguns NaNs e outliers\n",
    "    rng = np.random.default_rng(random_state)\n",
    "    nan_idx = rng.choice(df.index, size=int(0.05*len(df)), replace=False)\n",
    "    col_for_nan = rng.choice(cols)\n",
    "    df.loc[nan_idx, col_for_nan] = np.nan\n",
    "    out_idx = rng.choice(df.index, size=int(0.01*len(df)), replace=False)\n",
    "    df.loc[out_idx, rng.choice(cols)] *= 8\n",
    "    return df\n",
    "\n",
    "df = generate_synthetic_df()\n",
    "df.head()\n"
   ]
  },
  {
   "cell_type": "markdown",
   "metadata": {},
   "source": [
    "## 2. Estatísticas e Distribuições | Stats and Distributions"
   ]
  },
  {
   "cell_type": "code",
   "execution_count": null,
   "metadata": {},
   "source": [
    "df.describe().T\n"
   ]
  },
  {
   "cell_type": "code",
   "execution_count": null,
   "metadata": {},
   "source": [
    "num_cols = [c for c in df.columns if c.startswith('feat_')]\n",
    "fig, axes = plt.subplots(2, 3, figsize=(12, 7))\n",
    "for ax, col in zip(axes.ravel(), num_cols[:6]):\n",
    "    sns.histplot(data=df, x=col, kde=True, ax=ax)\n",
    "    ax.set_title(col)\n",
    "plt.tight_layout()\n",
    "plt.show()\n"
   ]
  },
  {
   "cell_type": "code",
   "execution_count": null,
   "metadata": {},
   "source": [
    "# Interactive Plotly distribution for first 2 columns\n",
    "px.histogram(df, x=num_cols[0], nbins=40, title=f'Distribution of {num_cols[0]}').show()\n"
   ]
  },
  {
   "cell_type": "markdown",
   "metadata": {},
   "source": [
    "## 3. Correlação | Correlation"
   ]
  },
  {
   "cell_type": "code",
   "execution_count": null,
   "metadata": {},
   "source": [
    "corr = df[num_cols].corr()\n",
    "plt.figure(figsize=(8,6))\n",
    "sns.heatmap(corr, cmap='viridis', annot=False)\n",
    "plt.title('Matriz de Correlação | Correlation Matrix')\n",
    "plt.show()\n"
   ]
  },
  {
   "cell_type": "markdown",
   "metadata": {},
   "source": [
    "## 4. Dados Faltantes | Missing Values"
   ]
  },
  {
   "cell_type": "code",
   "execution_count": null,
   "metadata": {},
   "source": [
    "missing_rate = df.isna().mean().sort_values(ascending=False)\n",
    "missing_rate\n"
   ]
  },
  {
   "cell_type": "code",
   "execution_count": null,
   "metadata": {},
   "source": [
    "sns.barplot(x=missing_rate.index, y=missing_rate.values)\n",
    "plt.xticks(rotation=45)\n",
    "plt.ylabel('Proporção de NaNs | NaN Proportion')\n",
    "plt.title('Dados Faltantes | Missing Values')\n",
    "plt.show()\n"
   ]
  },
  {
   "cell_type": "markdown",
   "metadata": {},
   "source": [
    "## 5. Outliers (IQR)"
   ]
  },
  {
   "cell_type": "code",
   "execution_count": null,
   "metadata": {},
   "source": [
    "def iqr_outlier_mask(s: pd.Series, k: float = 1.5) -> pd.Series:\n",
    "    \"\"\"\n",
    "    PT-BR: Retorna máscara booleana para outliers via IQR.\n",
    "    EN: Returns boolean mask for outliers using IQR.\n",
    "    \"\"\"\n",
    "    q1, q3 = s.quantile([0.25, 0.75])\n",
    "    iqr = q3 - q1\n",
    "    lower, upper = q1 - k*iqr, q3 + k*iqr\n",
    "    return (s < lower) | (s > upper)\n",
    "\n",
    "outlier_counts = {c: iqr_outlier_mask(df[c].dropna()).sum() for c in num_cols}\n",
    "pd.Series(outlier_counts).sort_values(ascending=False)\n"
   ]
  },
  {
   "cell_type": "markdown",
   "metadata": {},
   "source": [
    "## 6. Pré-processamento | Preprocessing"
   ]
  },
  {
   "cell_type": "code",
   "execution_count": null,
   "metadata": {},
   "source": [
    "X = df[num_cols].copy()\n",
    "y = df['target'].copy()\n",
    "X_train, X_test, y_train, y_test = train_test_split(X, y, test_size=0.25, random_state=42, stratify=y)\n",
    "\n",
    "numeric_transformer = Pipeline(steps=[\n",
    "    ('imputer', SimpleImputer(strategy='median')),\n",
    "    ('scaler', StandardScaler())\n",
    "])\n",
    "preprocessor = ColumnTransformer(transformers=[('num', numeric_transformer, num_cols)])\n",
    "clf = Pipeline(steps=[('pre', preprocessor), ('model', LogisticRegression(max_iter=1000))])\n",
    "clf.fit(X_train, y_train)\n",
    "print('Train score:', clf.score(X_train, y_train))\n",
    "print('Test score:', clf.score(X_test, y_test))\n",
    "print(classification_report(y_test, clf.predict(X_test)))\n"
   ]
  },
  {
   "cell_type": "markdown",
   "metadata": {},
   "source": [
    "## 7. Validação do Projeto | Project Validation"
   ]
  },
  {
   "cell_type": "code",
   "execution_count": null,
   "metadata": {},
   "source": [
    "\"\"\"\n",
    "PT-BR: Se utilitários do projeto estiverem disponíveis, demonstre validações.\n",
    "EN: If project utilities are available, demonstrate validations.\n",
    "\"\"\"\n",
    "if validate_missing_values is not None:\n",
    "    # Exemplo: checar se taxa de NaNs não excede 10% por coluna\n",
    "    report = validate_missing_values(df[num_cols], max_missing_rate=0.10)\n",
    "    display(report)\n",
    "else:\n",
    "    print('Project validation utilities not available in this environment.')\n"
   ]
  },
  {
   "cell_type": "markdown",
   "metadata": {},
   "source": [
    "## 8. Visualização Bivariada | Bivariate Visualization"
   ]
  },
  {
   "cell_type": "code",
   "execution_count": null,
   "metadata": {},
   "source": [
    "plt.figure(figsize=(6,4))\n",
    "sns.boxplot(x=y, y=X[num_cols[0]])\n",
    "plt.title(f'Boxplot {num_cols[0]} por classe | by class')\n",
    "plt.show()\n",
    "\n",
    "px.scatter(df, x=num_cols[0], y=num_cols[1], color=df['target'].astype(str),\n",
    "           title='Scatter (Plotly) colored by target').show()\n"
   ]
  },
  {
   "cell_type": "markdown",
   "metadata": {},
   "source": [
    "## 9. Exportar Artefatos | Export Artifacts"
   ]
  },
  {
   "cell_type": "code",
   "execution_count": null,
   "metadata": {},
   "source": [
    "out_dir = Path('data/processed')\n",
    "out_dir.mkdir(parents=True, exist_ok=True)\n",
    "df.to_csv(out_dir / 'synthetic_sample.csv', index=False)\n",
    "print('Saved:', out_dir / 'synthetic_sample.csv')\n"
   ]
  },
  {
   "cell_type": "markdown",
   "metadata": {},
   "source": [
    "---\n",
    "PT-BR: Fim do notebook. Veja próximos notebooks para engenharia de features e modelagem.\n",
    "\n",
    "EN: End of notebook. See next notebooks for feature engineering and modeling."
   ]
  }
 ],
 "metadata": {
  "kernelspec": {
   "display_name": "Python 3",
   "language": "python",
   "name": "python3"
  },
  "language_info": {
   "name": "python",
   "version": "3.10"
  }
 },
 "nbformat": 4,
 "nbformat_minor": 5
}
