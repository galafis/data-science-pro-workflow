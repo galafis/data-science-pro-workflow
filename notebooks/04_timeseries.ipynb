{
 "cells": [
  {
   "cell_type": "markdown",
   "metadata": {},
   "source": [
    "# 04 - Time Series Analysis, Modeling, and Forecasting (Bilingual)\n",
    "\n",
    "Este notebook é bilíngue (PT/EN).\n",
    "This notebook is bilingual (PT/EN).\n",
    "\n",
    "Objetivo/Goal: exemplos completos de análise, modelagem e previsão de séries temporais com Prophet e ARIMA, decomposição, visualizações, tratamento de datas, métricas especializadas e exportação de forecasts.\n"
   ]
  },
  {
   "cell_type": "code",
   "execution_count": null,
   "metadata": {},
   "outputs": [],
   "source": [
    "# !pip install pandas numpy matplotlib seaborn plotly statsmodels prophet --quiet\n",
    "import pandas as pd\n",
    "import numpy as np\n",
    "import matplotlib.pyplot as plt\n",
    "import seaborn as sns\n",
    "import plotly.express as px\n",
    "from statsmodels.tsa.seasonal import seasonal_decompose\n",
    "from statsmodels.tsa.stattools import adfuller\n",
    "from statsmodels.tsa.arima.model import ARIMA\n",
    "from sklearn.metrics import mean_absolute_error, mean_squared_error\n",
    "import warnings; warnings.filterwarnings('ignore')\n",
    "\n",
    "# Prophet import (try/catch for environments without it)\n",
    "try:\n",
    "    from prophet import Prophet\n",
    "except Exception as e:\n",
    "    Prophet = None\n",
    "    print('Prophet not available, continuing without Prophet:', e)\n"
   ]
  },
  {
   "cell_type": "markdown",
   "metadata": {},
   "source": [
    "## 1) Data loading and date handling / Carregamento e tratamento de datas\n",
    "- Parse datetime, set frequency, handle missing values.\n",
    "- Fazer parse de datas, definir frequência e tratar faltantes.\n"
   ]
  },
  {
   "cell_type": "code",
   "execution_count": null,
   "metadata": {},
   "outputs": [],
   "source": [
    "# Example synthetic daily time series / Série diária sintética\n",
    "rng = pd.date_range('2018-01-01', '2022-12-31', freq='D')\n",
    "np.random.seed(42)\n",
    "trend = np.linspace(10, 50, len(rng))\n",
    "seasonal = 10 * np.sin(2 * np.pi * rng.dayofyear / 365.25)\n",
    "noise = np.random.normal(0, 2, len(rng))\n",
    "y = trend + seasonal + noise\n",
    "df = pd.DataFrame({'ds': rng, 'y': y})\n",
    "\n",
    "# Introduce missing dates and values / Introduzir datas e valores faltantes\n",
    "df_missing = df.copy().sample(frac=0.98, random_state=1).sort_values('ds').reset_index(drop=True)\n",
    "# Reindex to daily frequency and fill missing via interpolation\n",
    "df_full = (df_missing.set_index('ds')\n",
    "           .asfreq('D')\n",
    "           .interpolate('time')\n",
    "           .reset_index())\n",
    "df_full.rename(columns={'index': 'ds'}, inplace=True)\n",
    "df_full.head()\n"
   ]
  },
  {
   "cell_type": "markdown",
   "metadata": {},
   "source": [
    "## 2) Visualization / Visualização\n",
    "- Static and interactive plots.\n",
    "- Gráficos estáticos e interativos.\n"
   ]
  },
  {
   "cell_type": "code",
   "execution_count": null,
   "metadata": {},
   "outputs": [],
   "source": [
    "fig, ax = plt.subplots(figsize=(12,4))\n",
    "ax.plot(df_full['ds'], df_full['y'], label='y')\n",
    "ax.set_title('Time Series (Daily) / Série Temporal (Diária)')\n",
    "ax.legend(); plt.show()\n",
    "\n",
    "px.line(df_full, x='ds', y='y', title='Interactive Time Series').show()\n"
   ]
  },
  {
   "cell_type": "markdown",
   "metadata": {},
   "source": [
    "## 3) Decomposition / Decomposição\n",
    "- Trend, seasonality, residuals.\n",
    "- Tendência, sazonalidade e resíduos.\n"
   ]
  },
  {
   "cell_type": "code",
   "execution_count": null,
   "metadata": {},
   "outputs": [],
   "source": [
    "result = seasonal_decompose(df_full.set_index('ds')['y'], model='additive', period=365)\n",
    "result.plot().set_size_inches(12,8)\n",
    "plt.suptitle('Additive Decomposition / Decomposição Aditiva', y=1.02)\n",
    "plt.show()\n"
   ]
  },
  {
   "cell_type": "markdown",
   "metadata": {},
   "source": [
    "## 4) Stationarity check / Verificação de estacionariedade (ADF)\n"
   ]
  },
  {
   "cell_type": "code",
   "execution_count": null,
   "metadata": {},
   "outputs": [],
   "source": [
    "adf_stat, pvalue, _, _, crit, _ = adfuller(df_full['y'])\n",
    "print(f'ADF: {adf_stat:.3f} | p-value: {pvalue:.3f}')\n",
    "print('Critical values:', crit)\n",
    "print('Stationary' if pvalue < 0.05 else 'Non-stationary')\n"
   ]
  },
  {
   "cell_type": "markdown",
   "metadata": {},
   "source": [
    "## 5) ARIMA modeling / Modelagem ARIMA\n",
    "- Simple ARIMA as example (p,d,q).\n",
    "- ARIMA simples como exemplo (p,d,q).\n"
   ]
  },
  {
   "cell_type": "code",
   "execution_count": null,
   "metadata": {},
   "outputs": [],
   "source": [
    "train = df_full.iloc[:-365].copy()\n",
    "test = df_full.iloc[-365:].copy()\n",
    "\n",
    "model = ARIMA(train.set_index('ds')['y'], order=(5,1,2))\n",
    "arima_res = model.fit()\n",
    "print(arima_res.summary())\n",
    "\n",
    "# Forecast horizon equal to test length\n",
    "forecast = arima_res.forecast(steps=len(test))\n",
    "pred = pd.DataFrame({'ds': test['ds'].values, 'yhat': forecast.values})\n",
    "\n",
    "fig, ax = plt.subplots(figsize=(12,4))\n",
    "ax.plot(train['ds'], train['y'], label='train')\n",
    "ax.plot(test['ds'], test['y'], label='test')\n",
    "ax.plot(pred['ds'], pred['yhat'], label='ARIMA forecast')\n",
    "ax.legend(); ax.set_title('ARIMA Forecast vs Test')\n",
    "plt.show()\n"
   ]
  },
  {
   "cell_type": "markdown",
   "metadata": {},
   "source": [
    "## 6) Prophet modeling (if available) / Modelagem com Prophet (se disponível)\n",
    "- Daily seasonality + yearly seasonality.\n",
    "- Sazonalidade diária e anual.\n"
   ]
  },
  {
   "cell_type": "code",
   "execution_count": null,
   "metadata": {},
   "outputs": [],
   "source": [
    "if Prophet is not None:\n",
    "    m = Prophet(daily_seasonality=True, yearly_seasonality=True, weekly_seasonality=True)\n",
    "    m.fit(train[['ds','y']])\n",
    "    future = m.make_future_dataframe(periods=len(test), freq='D')\n",
    "    fcst = m.predict(future)\n",
    "    fcst_tail = fcst.tail(len(test))[['ds','yhat','yhat_lower','yhat_upper']]\n",
    "    \n",
    "    fig1 = m.plot(fcst)\n",
    "    plt.title('Prophet Forecast')\n",
    "    plt.show()\n",
    "    fig2 = m.plot_components(fcst)\n",
    "    plt.show()\n",
    "else:\n",
    "    print('Prophet not installed; skipping Prophet section.')\n"
   ]
  },
  {
   "cell_type": "markdown",
   "metadata": {},
   "source": [
    "## 7) Specialized metrics / Métricas especializadas\n",
    "- MAE, RMSE, MAPE, sMAPE.\n"
   ]
  },
  {
   "cell_type": "code",
   "execution_count": null,
   "metadata": {},
   "outputs": [],
   "source": [
    "def mape(y_true, y_pred):\n",
    "    y_true, y_pred = np.array(y_true), np.array(y_pred)\n",
    "    return np.mean(np.abs((y_true - y_pred) / np.clip(np.abs(y_true), 1e-8, None))) * 100\n",
    "\n",
    "def smape(y_true, y_pred):\n",
    "    y_true, y_pred = np.array(y_true), np.array(y_pred)\n",
    "    return 100/len(y_true) * np.sum(2 * np.abs(y_pred - y_true) / (np.abs(y_true) + np.abs(y_pred) + 1e-8))\n",
    "\n",
    "arima_metrics = {\n",
    "    'MAE': mean_absolute_error(test['y'], pred['yhat']),\n",
    "    'RMSE': np.sqrt(mean_squared_error(test['y'], pred['yhat'])),\n",
    "    'MAPE': mape(test['y'], pred['yhat']),\n",
    "    'sMAPE': smape(test['y'], pred['yhat'])\n",
    "}\n",
    "print('ARIMA metrics / Métricas ARIMA:', arima_metrics)\n",
    "\n",
    "if Prophet is not None:\n",
    "    merged = test.merge(fcst_tail[['ds','yhat']], on='ds', how='left')\n",
    "    prop_metrics = {\n",
    "        'MAE': mean_absolute_error(merged['y'], merged['yhat']),\n",
    "        'RMSE': np.sqrt(mean_squared_error(merged['y'], merged['yhat'])),\n",
    "        'MAPE': mape(merged['y'], merged['yhat']),\n",
    "        'sMAPE': smape(merged['y'], merged['yhat'])\n",
    "    }\n",
    "    print('Prophet metrics / Métricas Prophet:', prop_metrics)\n"
   ]
  },
  {
   "cell_type": "markdown",
   "metadata": {},
   "source": [
    "## 8) Export forecasts / Exportação de previsões\n",
    "- Save CSV with forecast and intervals.\n",
    "- Salvar CSV com previsões e intervalos.\n"
   ]
  },
  {
   "cell_type": "code",
   "execution_count": null,
   "metadata": {},
   "outputs": [],
   "source": [
    "export_arima = pred.rename(columns={'yhat': 'yhat_arima'})\n",
    "export_arima.to_csv('forecast_arima.csv', index=False)\n",
    "print('Saved forecast_arima.csv')\n",
    "\n",
    "if Prophet is not None:\n",
    "    export_prophet = fcst_tail.rename(columns={'yhat':'yhat_prophet'})\n",
    "    export_prophet.to_csv('forecast_prophet.csv', index=False)\n",
    "    print('Saved forecast_prophet.csv')\n"
   ]
  },
  {
   "cell_type": "markdown",
   "metadata": {},
   "source": [
    "## 9) Next steps / Próximos passos\n",
    "- Hyperparameter tuning (p,d,q), seasonal ARIMA (SARIMA), cross-validation.\n",
    "- Ajuste de hiperparâmetros, SARIMA e validação cruzada.\n"
   ]
  }
 ],
 "metadata": {
  "kernelspec": {
   "display_name": "Python 3",
   "language": "python",
   "name": "python3"
  },
  "language_info": {
   "name": "python",
   "version": "3.x"
  }
 },
 "nbformat": 4,
 "nbformat_minor": 5
}
